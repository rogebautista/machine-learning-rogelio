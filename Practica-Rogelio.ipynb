{
 "cells": [
  {
   "cell_type": "code",
   "execution_count": 1,
   "metadata": {
    "collapsed": true,
    "pycharm": {
     "name": "#%%\n"
    }
   },
   "outputs": [],
   "source": [
    "import numpy as np\n",
    "import pandas as pd\n",
    "\n",
    "import matplotlib.pyplot as plt\n",
    "from matplotlib.colors import ListedColormap\n",
    "%matplotlib inline\n",
    "\n",
    "cm = plt.cm.RdBu\n",
    "cm_bright = ListedColormap(['#FF0000', '#0000FF'])\n",
    "\n",
    "import warnings\n",
    "warnings.filterwarnings('ignore')"
   ]
  },
  {
   "cell_type": "code",
   "execution_count": 2,
   "outputs": [
    {
     "data": {
      "text/plain": "(14780, 89)"
     },
     "execution_count": 2,
     "metadata": {},
     "output_type": "execute_result"
    }
   ],
   "source": [
    "data = pd.read_table('./airbnb-listings-extract.csv',sep=';', decimal='.')\n",
    "data.shape"
   ],
   "metadata": {
    "collapsed": false,
    "pycharm": {
     "name": "#%%\n"
    }
   }
  },
  {
   "cell_type": "markdown",
   "source": [
    "### Información general del dataset"
   ],
   "metadata": {
    "collapsed": false,
    "pycharm": {
     "name": "#%% md\n"
    }
   }
  },
  {
   "cell_type": "code",
   "execution_count": 3,
   "outputs": [
    {
     "data": {
      "text/plain": "                 ID     Scrape ID       Host ID  Host Response Rate  \\\ncount  1.478000e+04  1.478000e+04  1.478000e+04        12881.000000   \nmean   1.028089e+07  2.017037e+13  3.608080e+07           94.823461   \nstd    5.564829e+06  5.667971e+08  3.425360e+07           15.215988   \nmin    1.862800e+04  2.016010e+13  1.745300e+04            0.000000   \n25%    5.554732e+06  2.017041e+13  6.787360e+06          100.000000   \n50%    1.133492e+07  2.017041e+13  2.464875e+07          100.000000   \n75%    1.532631e+07  2.017041e+13  5.432919e+07          100.000000   \nmax    1.910969e+07  2.017062e+13  1.247534e+08          100.000000   \n\n       Host Listings Count  Host Total Listings Count      Latitude  \\\ncount         14777.000000               14777.000000  14780.000000   \nmean             12.513636                  12.513636     40.497626   \nstd              34.090223                  34.090223      4.641387   \nmin               0.000000                   0.000000    -37.851182   \n25%               1.000000                   1.000000     40.409726   \n50%               2.000000                   2.000000     40.419466   \n75%               6.000000                   6.000000     40.430916   \nmax             519.000000                 519.000000     55.966912   \n\n          Longitude  Accommodates     Bathrooms  ...  Number of Reviews  \\\ncount  14780.000000  14780.000000  14725.000000  ...       14780.000000   \nmean      -3.858041      3.277808      1.281732  ...          22.632273   \nstd       14.123146      2.097291      0.658517  ...          38.290244   \nmin     -123.131344      1.000000      0.000000  ...           0.000000   \n25%       -3.707604      2.000000      1.000000  ...           1.000000   \n50%       -3.700785      3.000000      1.000000  ...           7.000000   \n75%       -3.684057      4.000000      1.000000  ...          27.000000   \nmax      153.371427     16.000000      8.000000  ...         446.000000   \n\n       Review Scores Rating  Review Scores Accuracy  \\\ncount          11476.000000            11454.000000   \nmean              91.697978                9.416012   \nstd                8.989101                0.921938   \nmin               20.000000                2.000000   \n25%               89.000000                9.000000   \n50%               94.000000               10.000000   \n75%               98.000000               10.000000   \nmax              100.000000               10.000000   \n\n       Review Scores Cleanliness  Review Scores Checkin  \\\ncount               11460.000000           11443.000000   \nmean                    9.328883               9.621778   \nstd                     0.989933               0.802736   \nmin                     2.000000               2.000000   \n25%                     9.000000               9.000000   \n50%                    10.000000              10.000000   \n75%                    10.000000              10.000000   \nmax                    10.000000              10.000000   \n\n       Review Scores Communication  Review Scores Location  \\\ncount                 11460.000000            11440.000000   \nmean                      9.647033                9.532168   \nstd                       0.767116                0.774527   \nmin                       2.000000                2.000000   \n25%                       9.000000                9.000000   \n50%                      10.000000               10.000000   \n75%                      10.000000               10.000000   \nmax                      10.000000               10.000000   \n\n       Review Scores Value  Calculated host listings count  Reviews per Month  \ncount         11439.000000                    14776.000000       11618.000000  \nmean              9.218201                        9.486871           1.870014  \nstd               0.950578                       23.626014           1.867550  \nmin               2.000000                        1.000000           0.020000  \n25%               9.000000                        1.000000           0.450000  \n50%               9.000000                        2.000000           1.200000  \n75%              10.000000                        5.000000           2.780000  \nmax              10.000000                      145.000000          17.210000  \n\n[8 rows x 36 columns]",
      "text/html": "<div>\n<style scoped>\n    .dataframe tbody tr th:only-of-type {\n        vertical-align: middle;\n    }\n\n    .dataframe tbody tr th {\n        vertical-align: top;\n    }\n\n    .dataframe thead th {\n        text-align: right;\n    }\n</style>\n<table border=\"1\" class=\"dataframe\">\n  <thead>\n    <tr style=\"text-align: right;\">\n      <th></th>\n      <th>ID</th>\n      <th>Scrape ID</th>\n      <th>Host ID</th>\n      <th>Host Response Rate</th>\n      <th>Host Listings Count</th>\n      <th>Host Total Listings Count</th>\n      <th>Latitude</th>\n      <th>Longitude</th>\n      <th>Accommodates</th>\n      <th>Bathrooms</th>\n      <th>...</th>\n      <th>Number of Reviews</th>\n      <th>Review Scores Rating</th>\n      <th>Review Scores Accuracy</th>\n      <th>Review Scores Cleanliness</th>\n      <th>Review Scores Checkin</th>\n      <th>Review Scores Communication</th>\n      <th>Review Scores Location</th>\n      <th>Review Scores Value</th>\n      <th>Calculated host listings count</th>\n      <th>Reviews per Month</th>\n    </tr>\n  </thead>\n  <tbody>\n    <tr>\n      <th>count</th>\n      <td>1.478000e+04</td>\n      <td>1.478000e+04</td>\n      <td>1.478000e+04</td>\n      <td>12881.000000</td>\n      <td>14777.000000</td>\n      <td>14777.000000</td>\n      <td>14780.000000</td>\n      <td>14780.000000</td>\n      <td>14780.000000</td>\n      <td>14725.000000</td>\n      <td>...</td>\n      <td>14780.000000</td>\n      <td>11476.000000</td>\n      <td>11454.000000</td>\n      <td>11460.000000</td>\n      <td>11443.000000</td>\n      <td>11460.000000</td>\n      <td>11440.000000</td>\n      <td>11439.000000</td>\n      <td>14776.000000</td>\n      <td>11618.000000</td>\n    </tr>\n    <tr>\n      <th>mean</th>\n      <td>1.028089e+07</td>\n      <td>2.017037e+13</td>\n      <td>3.608080e+07</td>\n      <td>94.823461</td>\n      <td>12.513636</td>\n      <td>12.513636</td>\n      <td>40.497626</td>\n      <td>-3.858041</td>\n      <td>3.277808</td>\n      <td>1.281732</td>\n      <td>...</td>\n      <td>22.632273</td>\n      <td>91.697978</td>\n      <td>9.416012</td>\n      <td>9.328883</td>\n      <td>9.621778</td>\n      <td>9.647033</td>\n      <td>9.532168</td>\n      <td>9.218201</td>\n      <td>9.486871</td>\n      <td>1.870014</td>\n    </tr>\n    <tr>\n      <th>std</th>\n      <td>5.564829e+06</td>\n      <td>5.667971e+08</td>\n      <td>3.425360e+07</td>\n      <td>15.215988</td>\n      <td>34.090223</td>\n      <td>34.090223</td>\n      <td>4.641387</td>\n      <td>14.123146</td>\n      <td>2.097291</td>\n      <td>0.658517</td>\n      <td>...</td>\n      <td>38.290244</td>\n      <td>8.989101</td>\n      <td>0.921938</td>\n      <td>0.989933</td>\n      <td>0.802736</td>\n      <td>0.767116</td>\n      <td>0.774527</td>\n      <td>0.950578</td>\n      <td>23.626014</td>\n      <td>1.867550</td>\n    </tr>\n    <tr>\n      <th>min</th>\n      <td>1.862800e+04</td>\n      <td>2.016010e+13</td>\n      <td>1.745300e+04</td>\n      <td>0.000000</td>\n      <td>0.000000</td>\n      <td>0.000000</td>\n      <td>-37.851182</td>\n      <td>-123.131344</td>\n      <td>1.000000</td>\n      <td>0.000000</td>\n      <td>...</td>\n      <td>0.000000</td>\n      <td>20.000000</td>\n      <td>2.000000</td>\n      <td>2.000000</td>\n      <td>2.000000</td>\n      <td>2.000000</td>\n      <td>2.000000</td>\n      <td>2.000000</td>\n      <td>1.000000</td>\n      <td>0.020000</td>\n    </tr>\n    <tr>\n      <th>25%</th>\n      <td>5.554732e+06</td>\n      <td>2.017041e+13</td>\n      <td>6.787360e+06</td>\n      <td>100.000000</td>\n      <td>1.000000</td>\n      <td>1.000000</td>\n      <td>40.409726</td>\n      <td>-3.707604</td>\n      <td>2.000000</td>\n      <td>1.000000</td>\n      <td>...</td>\n      <td>1.000000</td>\n      <td>89.000000</td>\n      <td>9.000000</td>\n      <td>9.000000</td>\n      <td>9.000000</td>\n      <td>9.000000</td>\n      <td>9.000000</td>\n      <td>9.000000</td>\n      <td>1.000000</td>\n      <td>0.450000</td>\n    </tr>\n    <tr>\n      <th>50%</th>\n      <td>1.133492e+07</td>\n      <td>2.017041e+13</td>\n      <td>2.464875e+07</td>\n      <td>100.000000</td>\n      <td>2.000000</td>\n      <td>2.000000</td>\n      <td>40.419466</td>\n      <td>-3.700785</td>\n      <td>3.000000</td>\n      <td>1.000000</td>\n      <td>...</td>\n      <td>7.000000</td>\n      <td>94.000000</td>\n      <td>10.000000</td>\n      <td>10.000000</td>\n      <td>10.000000</td>\n      <td>10.000000</td>\n      <td>10.000000</td>\n      <td>9.000000</td>\n      <td>2.000000</td>\n      <td>1.200000</td>\n    </tr>\n    <tr>\n      <th>75%</th>\n      <td>1.532631e+07</td>\n      <td>2.017041e+13</td>\n      <td>5.432919e+07</td>\n      <td>100.000000</td>\n      <td>6.000000</td>\n      <td>6.000000</td>\n      <td>40.430916</td>\n      <td>-3.684057</td>\n      <td>4.000000</td>\n      <td>1.000000</td>\n      <td>...</td>\n      <td>27.000000</td>\n      <td>98.000000</td>\n      <td>10.000000</td>\n      <td>10.000000</td>\n      <td>10.000000</td>\n      <td>10.000000</td>\n      <td>10.000000</td>\n      <td>10.000000</td>\n      <td>5.000000</td>\n      <td>2.780000</td>\n    </tr>\n    <tr>\n      <th>max</th>\n      <td>1.910969e+07</td>\n      <td>2.017062e+13</td>\n      <td>1.247534e+08</td>\n      <td>100.000000</td>\n      <td>519.000000</td>\n      <td>519.000000</td>\n      <td>55.966912</td>\n      <td>153.371427</td>\n      <td>16.000000</td>\n      <td>8.000000</td>\n      <td>...</td>\n      <td>446.000000</td>\n      <td>100.000000</td>\n      <td>10.000000</td>\n      <td>10.000000</td>\n      <td>10.000000</td>\n      <td>10.000000</td>\n      <td>10.000000</td>\n      <td>10.000000</td>\n      <td>145.000000</td>\n      <td>17.210000</td>\n    </tr>\n  </tbody>\n</table>\n<p>8 rows × 36 columns</p>\n</div>"
     },
     "execution_count": 3,
     "metadata": {},
     "output_type": "execute_result"
    }
   ],
   "source": [
    "# data.info()\n",
    "data.describe()"
   ],
   "metadata": {
    "collapsed": false,
    "pycharm": {
     "name": "#%%\n"
    }
   }
  },
  {
   "cell_type": "code",
   "execution_count": 4,
   "outputs": [
    {
     "data": {
      "text/plain": "Empty DataFrame\nColumns: [ID, Listing Url, Scrape ID, Last Scraped, Name, Summary, Space, Description, Experiences Offered, Neighborhood Overview, Notes, Transit, Access, Interaction, House Rules, Thumbnail Url, Medium Url, Picture Url, XL Picture Url, Host ID, Host URL, Host Name, Host Since, Host Location, Host About, Host Response Time, Host Response Rate, Host Acceptance Rate, Host Thumbnail Url, Host Picture Url, Host Neighbourhood, Host Listings Count, Host Total Listings Count, Host Verifications, Street, Neighbourhood, Neighbourhood Cleansed, Neighbourhood Group Cleansed, City, State, Zipcode, Market, Smart Location, Country Code, Country, Latitude, Longitude, Property Type, Room Type, Accommodates, Bathrooms, Bedrooms, Beds, Bed Type, Amenities, Square Feet, Price, Weekly Price, Monthly Price, Security Deposit, Cleaning Fee, Guests Included, Extra People, Minimum Nights, Maximum Nights, Calendar Updated, Has Availability, Availability 30, Availability 60, Availability 90, Availability 365, Calendar last Scraped, Number of Reviews, First Review, Last Review, Review Scores Rating, Review Scores Accuracy, Review Scores Cleanliness, Review Scores Checkin, Review Scores Communication, Review Scores Location, Review Scores Value, License, Jurisdiction Names, Cancellation Policy, Calculated host listings count, Reviews per Month, Geolocation, Features]\nIndex: []\n\n[0 rows x 89 columns]",
      "text/html": "<div>\n<style scoped>\n    .dataframe tbody tr th:only-of-type {\n        vertical-align: middle;\n    }\n\n    .dataframe tbody tr th {\n        vertical-align: top;\n    }\n\n    .dataframe thead th {\n        text-align: right;\n    }\n</style>\n<table border=\"1\" class=\"dataframe\">\n  <thead>\n    <tr style=\"text-align: right;\">\n      <th></th>\n      <th>ID</th>\n      <th>Listing Url</th>\n      <th>Scrape ID</th>\n      <th>Last Scraped</th>\n      <th>Name</th>\n      <th>Summary</th>\n      <th>Space</th>\n      <th>Description</th>\n      <th>Experiences Offered</th>\n      <th>Neighborhood Overview</th>\n      <th>...</th>\n      <th>Review Scores Communication</th>\n      <th>Review Scores Location</th>\n      <th>Review Scores Value</th>\n      <th>License</th>\n      <th>Jurisdiction Names</th>\n      <th>Cancellation Policy</th>\n      <th>Calculated host listings count</th>\n      <th>Reviews per Month</th>\n      <th>Geolocation</th>\n      <th>Features</th>\n    </tr>\n  </thead>\n  <tbody>\n  </tbody>\n</table>\n<p>0 rows × 89 columns</p>\n</div>"
     },
     "execution_count": 4,
     "metadata": {},
     "output_type": "execute_result"
    }
   ],
   "source": [
    "repeated_rows = data[data.duplicated()]\n",
    "repeated_rows"
   ],
   "metadata": {
    "collapsed": false,
    "pycharm": {
     "name": "#%%\n"
    }
   }
  },
  {
   "cell_type": "code",
   "execution_count": 5,
   "outputs": [
    {
     "data": {
      "text/plain": "         ID                            Listing Url       Scrape ID  \\\n0  11210388  https://www.airbnb.com/rooms/11210388  20170306202425   \n1  17471131  https://www.airbnb.com/rooms/17471131  20170407214050   \n2  17584891  https://www.airbnb.com/rooms/17584891  20170407214050   \n3   5398030   https://www.airbnb.com/rooms/5398030  20170407214050   \n4  18104606  https://www.airbnb.com/rooms/18104606  20170407214050   \n\n  Last Scraped                                 Name  \\\n0   2017-03-07       The Loft-Full Bath-Deck w/View   \n1   2017-04-08           Claris I, Friendly Rentals   \n2   2017-04-08  Style Terrace Red, Friendly Rentals   \n3   2017-04-08    Picasso Suite 1.4 Paseo de Gracia   \n4   2017-04-08       Smart City Centre Apartment II   \n\n                                             Summary  \\\n0  Loft in the Hill country 12-15 minutes directl...   \n1  This apartment has: 1 double bed, 1 double sof...   \n2  This apartment has: 1 double bed, 1 double sof...   \n3  Live like a local in Barcelona's most chic dis...   \n4  Unique apartment in vibrant neighborhoods, car...   \n\n                                               Space  \\\n0  This loft has a spectacular view of the hills ...   \n1  This apartment has: 1 double bed, 1 double sof...   \n2  This apartment has: 1 double bed, 1 double sof...   \n3  You wake up to the sun rising over Barcelona's...   \n4  License: HUTB-005313 Charming apartment, locat...   \n\n                                         Description Experiences Offered  \\\n0  Loft in the Hill country 12-15 minutes directl...                none   \n1  This apartment has: 1 double bed, 1 double sof...                none   \n2  This apartment has: 1 double bed, 1 double sof...                none   \n3  Live like a local in Barcelona's most chic dis...                none   \n4  Unique apartment in vibrant neighborhoods, car...                none   \n\n                               Neighborhood Overview  ...  \\\n0  This neighborhood is located in the hills west...  ...   \n1  Plaza   Cataluña Catalonia Square is the large...  ...   \n2  Plaza   Cataluña Catalonia Square is the large...  ...   \n3  We're right in the heart of the chic L'Eixampl...  ...   \n4                                                NaN  ...   \n\n  Review Scores Communication Review Scores Location Review Scores Value  \\\n0                        10.0                   10.0                10.0   \n1                        10.0                    8.0                10.0   \n2                         NaN                    NaN                 NaN   \n3                        10.0                   10.0                 9.0   \n4                         NaN                    NaN                 NaN   \n\n       License Jurisdiction Names Cancellation Policy  \\\n0          NaN                NaN            moderate   \n1  HUTB-006721                NaN     super_strict_30   \n2  HUTB-007527                NaN     super_strict_30   \n3          NaN                NaN              strict   \n4          NaN                NaN            flexible   \n\n  Calculated host listings count Reviews per Month  \\\n0                            1.0              3.50   \n1                          106.0              0.86   \n2                          106.0               NaN   \n3                           24.0              1.09   \n4                           92.0               NaN   \n\n                    Geolocation  \\\n0  30.3373609355,-97.8632766782   \n1   41.3896829422,2.17262543017   \n2   41.3930345489,2.16217327868   \n3    41.3969668101,2.1674178103   \n4   41.3886851936,2.15514963616   \n\n                                            Features  \n0  Host Is Superhost,Host Has Profile Pic,Host Id...  \n1  Host Has Profile Pic,Requires License,Instant ...  \n2  Host Has Profile Pic,Requires License,Instant ...  \n3  Host Has Profile Pic,Host Identity Verified,Re...  \n4  Host Has Profile Pic,Host Identity Verified,Is...  \n\n[5 rows x 89 columns]",
      "text/html": "<div>\n<style scoped>\n    .dataframe tbody tr th:only-of-type {\n        vertical-align: middle;\n    }\n\n    .dataframe tbody tr th {\n        vertical-align: top;\n    }\n\n    .dataframe thead th {\n        text-align: right;\n    }\n</style>\n<table border=\"1\" class=\"dataframe\">\n  <thead>\n    <tr style=\"text-align: right;\">\n      <th></th>\n      <th>ID</th>\n      <th>Listing Url</th>\n      <th>Scrape ID</th>\n      <th>Last Scraped</th>\n      <th>Name</th>\n      <th>Summary</th>\n      <th>Space</th>\n      <th>Description</th>\n      <th>Experiences Offered</th>\n      <th>Neighborhood Overview</th>\n      <th>...</th>\n      <th>Review Scores Communication</th>\n      <th>Review Scores Location</th>\n      <th>Review Scores Value</th>\n      <th>License</th>\n      <th>Jurisdiction Names</th>\n      <th>Cancellation Policy</th>\n      <th>Calculated host listings count</th>\n      <th>Reviews per Month</th>\n      <th>Geolocation</th>\n      <th>Features</th>\n    </tr>\n  </thead>\n  <tbody>\n    <tr>\n      <th>0</th>\n      <td>11210388</td>\n      <td>https://www.airbnb.com/rooms/11210388</td>\n      <td>20170306202425</td>\n      <td>2017-03-07</td>\n      <td>The Loft-Full Bath-Deck w/View</td>\n      <td>Loft in the Hill country 12-15 minutes directl...</td>\n      <td>This loft has a spectacular view of the hills ...</td>\n      <td>Loft in the Hill country 12-15 minutes directl...</td>\n      <td>none</td>\n      <td>This neighborhood is located in the hills west...</td>\n      <td>...</td>\n      <td>10.0</td>\n      <td>10.0</td>\n      <td>10.0</td>\n      <td>NaN</td>\n      <td>NaN</td>\n      <td>moderate</td>\n      <td>1.0</td>\n      <td>3.50</td>\n      <td>30.3373609355,-97.8632766782</td>\n      <td>Host Is Superhost,Host Has Profile Pic,Host Id...</td>\n    </tr>\n    <tr>\n      <th>1</th>\n      <td>17471131</td>\n      <td>https://www.airbnb.com/rooms/17471131</td>\n      <td>20170407214050</td>\n      <td>2017-04-08</td>\n      <td>Claris I, Friendly Rentals</td>\n      <td>This apartment has: 1 double bed, 1 double sof...</td>\n      <td>This apartment has: 1 double bed, 1 double sof...</td>\n      <td>This apartment has: 1 double bed, 1 double sof...</td>\n      <td>none</td>\n      <td>Plaza   Cataluña Catalonia Square is the large...</td>\n      <td>...</td>\n      <td>10.0</td>\n      <td>8.0</td>\n      <td>10.0</td>\n      <td>HUTB-006721</td>\n      <td>NaN</td>\n      <td>super_strict_30</td>\n      <td>106.0</td>\n      <td>0.86</td>\n      <td>41.3896829422,2.17262543017</td>\n      <td>Host Has Profile Pic,Requires License,Instant ...</td>\n    </tr>\n    <tr>\n      <th>2</th>\n      <td>17584891</td>\n      <td>https://www.airbnb.com/rooms/17584891</td>\n      <td>20170407214050</td>\n      <td>2017-04-08</td>\n      <td>Style Terrace Red, Friendly Rentals</td>\n      <td>This apartment has: 1 double bed, 1 double sof...</td>\n      <td>This apartment has: 1 double bed, 1 double sof...</td>\n      <td>This apartment has: 1 double bed, 1 double sof...</td>\n      <td>none</td>\n      <td>Plaza   Cataluña Catalonia Square is the large...</td>\n      <td>...</td>\n      <td>NaN</td>\n      <td>NaN</td>\n      <td>NaN</td>\n      <td>HUTB-007527</td>\n      <td>NaN</td>\n      <td>super_strict_30</td>\n      <td>106.0</td>\n      <td>NaN</td>\n      <td>41.3930345489,2.16217327868</td>\n      <td>Host Has Profile Pic,Requires License,Instant ...</td>\n    </tr>\n    <tr>\n      <th>3</th>\n      <td>5398030</td>\n      <td>https://www.airbnb.com/rooms/5398030</td>\n      <td>20170407214050</td>\n      <td>2017-04-08</td>\n      <td>Picasso Suite 1.4 Paseo de Gracia</td>\n      <td>Live like a local in Barcelona's most chic dis...</td>\n      <td>You wake up to the sun rising over Barcelona's...</td>\n      <td>Live like a local in Barcelona's most chic dis...</td>\n      <td>none</td>\n      <td>We're right in the heart of the chic L'Eixampl...</td>\n      <td>...</td>\n      <td>10.0</td>\n      <td>10.0</td>\n      <td>9.0</td>\n      <td>NaN</td>\n      <td>NaN</td>\n      <td>strict</td>\n      <td>24.0</td>\n      <td>1.09</td>\n      <td>41.3969668101,2.1674178103</td>\n      <td>Host Has Profile Pic,Host Identity Verified,Re...</td>\n    </tr>\n    <tr>\n      <th>4</th>\n      <td>18104606</td>\n      <td>https://www.airbnb.com/rooms/18104606</td>\n      <td>20170407214050</td>\n      <td>2017-04-08</td>\n      <td>Smart City Centre Apartment II</td>\n      <td>Unique apartment in vibrant neighborhoods, car...</td>\n      <td>License: HUTB-005313 Charming apartment, locat...</td>\n      <td>Unique apartment in vibrant neighborhoods, car...</td>\n      <td>none</td>\n      <td>NaN</td>\n      <td>...</td>\n      <td>NaN</td>\n      <td>NaN</td>\n      <td>NaN</td>\n      <td>NaN</td>\n      <td>NaN</td>\n      <td>flexible</td>\n      <td>92.0</td>\n      <td>NaN</td>\n      <td>41.3886851936,2.15514963616</td>\n      <td>Host Has Profile Pic,Host Identity Verified,Is...</td>\n    </tr>\n  </tbody>\n</table>\n<p>5 rows × 89 columns</p>\n</div>"
     },
     "execution_count": 5,
     "metadata": {},
     "output_type": "execute_result"
    }
   ],
   "source": [
    "data.head()"
   ],
   "metadata": {
    "collapsed": false,
    "pycharm": {
     "name": "#%%\n"
    }
   }
  },
  {
   "cell_type": "code",
   "execution_count": 6,
   "outputs": [
    {
     "data": {
      "text/plain": "246"
     },
     "execution_count": 6,
     "metadata": {},
     "output_type": "execute_result"
    }
   ],
   "source": [
    "data['City'].nunique()\n"
   ],
   "metadata": {
    "collapsed": false,
    "pycharm": {
     "name": "#%%\n"
    }
   }
  },
  {
   "cell_type": "code",
   "execution_count": 23,
   "outputs": [
    {
     "ename": "ValueError",
     "evalue": "Cannot mask with non-boolean array containing NA / NaN values",
     "output_type": "error",
     "traceback": [
      "\u001B[0;31m---------------------------------------------------------------------------\u001B[0m",
      "\u001B[0;31mValueError\u001B[0m                                Traceback (most recent call last)",
      "Cell \u001B[0;32mIn[23], line 2\u001B[0m\n\u001B[1;32m      1\u001B[0m \u001B[38;5;124;03m\"\"\" Get a list of unique city in column \"City\" \"\"\"\u001B[39;00m\n\u001B[0;32m----> 2\u001B[0m \u001B[38;5;28mlist\u001B[39m \u001B[38;5;241m=\u001B[39m \u001B[43mdata\u001B[49m\u001B[43m[\u001B[49m\u001B[43mdata\u001B[49m\u001B[43m[\u001B[49m\u001B[38;5;124;43m'\u001B[39;49m\u001B[38;5;124;43mCity\u001B[39;49m\u001B[38;5;124;43m'\u001B[39;49m\u001B[43m]\u001B[49m\u001B[38;5;241;43m.\u001B[39;49m\u001B[43mstr\u001B[49m\u001B[38;5;241;43m.\u001B[39;49m\u001B[43mcontains\u001B[49m\u001B[43m(\u001B[49m\u001B[38;5;124;43m'\u001B[39;49m\u001B[38;5;124;43mMadrid\u001B[39;49m\u001B[38;5;124;43m'\u001B[39;49m\u001B[43m)\u001B[49m\u001B[43m]\u001B[49m\n\u001B[1;32m      3\u001B[0m \u001B[38;5;28mlist\u001B[39m\n",
      "File \u001B[0;32m~/Documentos/CIDESI/big-data-bootcamp/machine-learning-rogelio/venv/lib/python3.8/site-packages/pandas/core/frame.py:3795\u001B[0m, in \u001B[0;36mDataFrame.__getitem__\u001B[0;34m(self, key)\u001B[0m\n\u001B[1;32m   3792\u001B[0m     \u001B[38;5;28;01mreturn\u001B[39;00m \u001B[38;5;28mself\u001B[39m\u001B[38;5;241m.\u001B[39mwhere(key)\n\u001B[1;32m   3794\u001B[0m \u001B[38;5;66;03m# Do we have a (boolean) 1d indexer?\u001B[39;00m\n\u001B[0;32m-> 3795\u001B[0m \u001B[38;5;28;01mif\u001B[39;00m \u001B[43mcom\u001B[49m\u001B[38;5;241;43m.\u001B[39;49m\u001B[43mis_bool_indexer\u001B[49m\u001B[43m(\u001B[49m\u001B[43mkey\u001B[49m\u001B[43m)\u001B[49m:\n\u001B[1;32m   3796\u001B[0m     \u001B[38;5;28;01mreturn\u001B[39;00m \u001B[38;5;28mself\u001B[39m\u001B[38;5;241m.\u001B[39m_getitem_bool_array(key)\n\u001B[1;32m   3798\u001B[0m \u001B[38;5;66;03m# We are left with two options: a single key, and a collection of keys,\u001B[39;00m\n\u001B[1;32m   3799\u001B[0m \u001B[38;5;66;03m# We interpret tuples as collections only for non-MultiIndex\u001B[39;00m\n",
      "File \u001B[0;32m~/Documentos/CIDESI/big-data-bootcamp/machine-learning-rogelio/venv/lib/python3.8/site-packages/pandas/core/common.py:135\u001B[0m, in \u001B[0;36mis_bool_indexer\u001B[0;34m(key)\u001B[0m\n\u001B[1;32m    131\u001B[0m     na_msg \u001B[38;5;241m=\u001B[39m \u001B[38;5;124m\"\u001B[39m\u001B[38;5;124mCannot mask with non-boolean array containing NA / NaN values\u001B[39m\u001B[38;5;124m\"\u001B[39m\n\u001B[1;32m    132\u001B[0m     \u001B[38;5;28;01mif\u001B[39;00m lib\u001B[38;5;241m.\u001B[39minfer_dtype(key_array) \u001B[38;5;241m==\u001B[39m \u001B[38;5;124m\"\u001B[39m\u001B[38;5;124mboolean\u001B[39m\u001B[38;5;124m\"\u001B[39m \u001B[38;5;129;01mand\u001B[39;00m isna(key_array)\u001B[38;5;241m.\u001B[39many():\n\u001B[1;32m    133\u001B[0m         \u001B[38;5;66;03m# Don't raise on e.g. [\"A\", \"B\", np.nan], see\u001B[39;00m\n\u001B[1;32m    134\u001B[0m         \u001B[38;5;66;03m#  test_loc_getitem_list_of_labels_categoricalindex_with_na\u001B[39;00m\n\u001B[0;32m--> 135\u001B[0m         \u001B[38;5;28;01mraise\u001B[39;00m \u001B[38;5;167;01mValueError\u001B[39;00m(na_msg)\n\u001B[1;32m    136\u001B[0m     \u001B[38;5;28;01mreturn\u001B[39;00m \u001B[38;5;28;01mFalse\u001B[39;00m\n\u001B[1;32m    137\u001B[0m \u001B[38;5;28;01mreturn\u001B[39;00m \u001B[38;5;28;01mTrue\u001B[39;00m\n",
      "\u001B[0;31mValueError\u001B[0m: Cannot mask with non-boolean array containing NA / NaN values"
     ]
    }
   ],
   "source": [
    "\"\"\" Get a list of unique city in column \"City\" \"\"\"\n",
    "list = data[data['City'].str.contains('Madrid')]\n",
    "list"
   ],
   "metadata": {
    "collapsed": false,
    "pycharm": {
     "name": "#%%\n"
    }
   }
  },
  {
   "cell_type": "code",
   "execution_count": 11,
   "outputs": [
    {
     "data": {
      "text/plain": "array(['United States', 'Spain', 'Netherlands', 'Belgium', 'France', nan,\n       'United Kingdom', 'Ireland', 'Italy', 'Greece', 'Denmark',\n       'Australia', 'Germany', 'Austria', 'Canada', 'Switzerland',\n       'Hong Kong', 'Cuba'], dtype=object)"
     },
     "execution_count": 11,
     "metadata": {},
     "output_type": "execute_result"
    }
   ],
   "source": [
    "list = data['Country'].unique()\n",
    "list"
   ],
   "metadata": {
    "collapsed": false,
    "pycharm": {
     "name": "#%%\n"
    }
   }
  },
  {
   "cell_type": "code",
   "execution_count": 19,
   "outputs": [
    {
     "data": {
      "text/plain": "          ID                           Listing Url       Scrape ID  \\\n151  1553260  https://www.airbnb.com/rooms/1553260  20170407214119   \n\n    Last Scraped                            Name  \\\n151   2017-04-08  ¡Urgente! Busco Piso en Madrid   \n\n                                               Summary Space  \\\n151  Hola me llamo Filomena soy Italiana tengo 24 c...   NaN   \n\n                                           Description Experiences Offered  \\\n151  Hola me llamo Filomena soy Italiana tengo 24 c...                none   \n\n    Neighborhood Overview  ... Review Scores Communication  \\\n151                   NaN  ...                         NaN   \n\n    Review Scores Location Review Scores Value License Jurisdiction Names  \\\n151                    NaN                 NaN     NaN                NaN   \n\n    Cancellation Policy Calculated host listings count Reviews per Month  \\\n151            flexible                            1.0               NaN   \n\n                      Geolocation                                Features  \n151  40.4767132864,-3.57188970158  Host Has Profile Pic,Is Location Exact  \n\n[1 rows x 89 columns]",
      "text/html": "<div>\n<style scoped>\n    .dataframe tbody tr th:only-of-type {\n        vertical-align: middle;\n    }\n\n    .dataframe tbody tr th {\n        vertical-align: top;\n    }\n\n    .dataframe thead th {\n        text-align: right;\n    }\n</style>\n<table border=\"1\" class=\"dataframe\">\n  <thead>\n    <tr style=\"text-align: right;\">\n      <th></th>\n      <th>ID</th>\n      <th>Listing Url</th>\n      <th>Scrape ID</th>\n      <th>Last Scraped</th>\n      <th>Name</th>\n      <th>Summary</th>\n      <th>Space</th>\n      <th>Description</th>\n      <th>Experiences Offered</th>\n      <th>Neighborhood Overview</th>\n      <th>...</th>\n      <th>Review Scores Communication</th>\n      <th>Review Scores Location</th>\n      <th>Review Scores Value</th>\n      <th>License</th>\n      <th>Jurisdiction Names</th>\n      <th>Cancellation Policy</th>\n      <th>Calculated host listings count</th>\n      <th>Reviews per Month</th>\n      <th>Geolocation</th>\n      <th>Features</th>\n    </tr>\n  </thead>\n  <tbody>\n    <tr>\n      <th>151</th>\n      <td>1553260</td>\n      <td>https://www.airbnb.com/rooms/1553260</td>\n      <td>20170407214119</td>\n      <td>2017-04-08</td>\n      <td>¡Urgente! Busco Piso en Madrid</td>\n      <td>Hola me llamo Filomena soy Italiana tengo 24 c...</td>\n      <td>NaN</td>\n      <td>Hola me llamo Filomena soy Italiana tengo 24 c...</td>\n      <td>none</td>\n      <td>NaN</td>\n      <td>...</td>\n      <td>NaN</td>\n      <td>NaN</td>\n      <td>NaN</td>\n      <td>NaN</td>\n      <td>NaN</td>\n      <td>flexible</td>\n      <td>1.0</td>\n      <td>NaN</td>\n      <td>40.4767132864,-3.57188970158</td>\n      <td>Host Has Profile Pic,Is Location Exact</td>\n    </tr>\n  </tbody>\n</table>\n<p>1 rows × 89 columns</p>\n</div>"
     },
     "execution_count": 19,
     "metadata": {},
     "output_type": "execute_result"
    }
   ],
   "source": [
    "subset = data[pd.isna(data['Country'])]\n",
    "subset"
   ],
   "metadata": {
    "collapsed": false,
    "pycharm": {
     "name": "#%%\n"
    }
   }
  },
  {
   "cell_type": "code",
   "execution_count": null,
   "outputs": [],
   "source": [],
   "metadata": {
    "collapsed": false,
    "pycharm": {
     "name": "#%%\n"
    }
   }
  }
 ],
 "metadata": {
  "kernelspec": {
   "display_name": "Python 3",
   "language": "python",
   "name": "python3"
  },
  "language_info": {
   "codemirror_mode": {
    "name": "ipython",
    "version": 2
   },
   "file_extension": ".py",
   "mimetype": "text/x-python",
   "name": "python",
   "nbconvert_exporter": "python",
   "pygments_lexer": "ipython2",
   "version": "2.7.6"
  }
 },
 "nbformat": 4,
 "nbformat_minor": 0
}